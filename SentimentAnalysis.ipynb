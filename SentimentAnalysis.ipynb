{
  "nbformat": 4,
  "nbformat_minor": 0,
  "metadata": {
    "colab": {
      "provenance": []
    },
    "kernelspec": {
      "name": "python3",
      "display_name": "Python 3"
    },
    "language_info": {
      "name": "python"
    }
  },
  "cells": [
    {
      "cell_type": "code",
      "execution_count": 1,
      "metadata": {
        "colab": {
          "base_uri": "https://localhost:8080/"
        },
        "id": "VjQgCLP3nrVp",
        "outputId": "0e7065dd-1f03-4405-aefc-27f57d3ef60f"
      },
      "outputs": [
        {
          "output_type": "stream",
          "name": "stdout",
          "text": [
            "\n",
            "Enter a sentence (or type 'exit' to stop): I had a great time at the party yesterday!\n",
            "Sentiment: Positive (Polarity Score: 1.00)\n",
            "\n",
            "Enter a sentence (or type 'exit' to stop): The weather today is terrible; it's so gloomy and cold.\n",
            "Sentiment: Negative (Polarity Score: -0.80)\n",
            "\n",
            "Enter a sentence (or type 'exit' to stop): I went to the store and bought some groceries.\n",
            "Sentiment: Neutral (Polarity Score: 0.00)\n",
            "\n",
            "Enter a sentence (or type 'exit' to stop): exit\n",
            "Exiting Sentiment Analysis...\n"
          ]
        }
      ],
      "source": [
        "from textblob import TextBlob\n",
        "\n",
        "def analyze_sentiment(text):\n",
        "    blob = TextBlob(text)\n",
        "    polarity = blob.sentiment.polarity\n",
        "\n",
        "    if polarity > 0:\n",
        "        sentiment = \"Positive\"\n",
        "    elif polarity < 0:\n",
        "        sentiment = \"Negative\"\n",
        "    else:\n",
        "        sentiment = \"Neutral\"\n",
        "\n",
        "    return sentiment, polarity\n",
        "\n",
        "while True:\n",
        "    text = input(\"\\nEnter a sentence (or type 'exit' to stop): \").strip()\n",
        "    if text.lower() == 'exit':\n",
        "        print(\"Exiting Sentiment Analysis...\")\n",
        "        break\n",
        "    if not text:\n",
        "        print(\"Please enter a valid sentence!\")\n",
        "        continue\n",
        "\n",
        "    sentiment, polarity = analyze_sentiment(text)\n",
        "    print(f\"Sentiment: {sentiment} (Polarity Score: {polarity:.2f})\")"
      ]
    }
  ]
}